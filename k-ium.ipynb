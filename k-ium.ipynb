{
 "cells": [
  {
   "cell_type": "code",
   "execution_count": 7,
   "metadata": {},
   "outputs": [],
   "source": [
    "import pandas as pd\n",
    "import numpy as np\n",
    "import re\n",
    "\n",
    "kiumSet = pd.read_csv('.\\TrainSet _1차_복사.csv')"
   ]
  },
  {
   "cell_type": "code",
   "execution_count": 2,
   "metadata": {},
   "outputs": [
    {
     "name": "stdout",
     "output_type": "stream",
     "text": [
      "<class 'pandas.core.frame.DataFrame'>\n",
      "RangeIndex: 6190 entries, 0 to 6189\n",
      "Data columns (total 3 columns):\n",
      " #   Column           Non-Null Count  Dtype \n",
      "---  ------           --------------  ----- \n",
      " 0   Findings         4814 non-null   object\n",
      " 1   Conclusion       6156 non-null   object\n",
      " 2   AcuteInfarction  6190 non-null   int64 \n",
      "dtypes: int64(1), object(2)\n",
      "memory usage: 145.2+ KB\n"
     ]
    }
   ],
   "source": [
    "'''\n",
    "1. 모든 필드의 데이터에 줄넘김 '\\n' 문자열이 존재. 이를 띄어쓰기(' ')로 변환한다.\n",
    "2. Conclusion 필드의 값이 NULL이면 AcuteInfarction(진단 결과)는 모두 0, 검사 내용도 미비 (MRI...)\n",
    "   -> 해당 데이터는 중요하지 않으니 제외시켜도 괜찮은 부분일까? - 아니면 결과 0처리 단독으로?\n",
    "3. Findings 필드의 값이 NULL(NaN)이어도 Conclusion 설명이 적혀있으며 검사 결과도 0과 1로 구분된다.\n",
    "4. Findings와 Conclusion 두 필드 모두 NULL인 경우는 없다.\n",
    "\n",
    "5. 항목마다 번호 분류가 있다(ex. (1)(2)..., 1.2..., ). 정규표현식 사용해서 삭제처리.\n",
    "6. 모든 문장 데이터를 소문자 변환 후 처리한다.\n",
    "'''\n",
    "kiumSet.info()"
   ]
  },
  {
   "cell_type": "code",
   "execution_count": 3,
   "metadata": {},
   "outputs": [],
   "source": [
    "df = pd.DataFrame(kiumSet)"
   ]
  },
  {
   "cell_type": "code",
   "execution_count": 5,
   "metadata": {
    "scrolled": true
   },
   "outputs": [
    {
     "data": {
      "text/html": [
       "<div>\n",
       "<style scoped>\n",
       "    .dataframe tbody tr th:only-of-type {\n",
       "        vertical-align: middle;\n",
       "    }\n",
       "\n",
       "    .dataframe tbody tr th {\n",
       "        vertical-align: top;\n",
       "    }\n",
       "\n",
       "    .dataframe thead th {\n",
       "        text-align: right;\n",
       "    }\n",
       "</style>\n",
       "<table border=\"1\" class=\"dataframe\">\n",
       "  <thead>\n",
       "    <tr style=\"text-align: right;\">\n",
       "      <th></th>\n",
       "      <th>Findings</th>\n",
       "      <th>Conclusion</th>\n",
       "      <th>AcuteInfarction</th>\n",
       "    </tr>\n",
       "  </thead>\n",
       "  <tbody>\n",
       "    <tr>\n",
       "      <th>266</th>\n",
       "      <td>MRI for radiosurgery \\r\\n</td>\n",
       "      <td>NaN</td>\n",
       "      <td>0</td>\n",
       "    </tr>\n",
       "    <tr>\n",
       "      <th>446</th>\n",
       "      <td>MRI for radiosurgery\\r\\n</td>\n",
       "      <td>NaN</td>\n",
       "      <td>0</td>\n",
       "    </tr>\n",
       "    <tr>\n",
       "      <th>482</th>\n",
       "      <td>MRI for radiosurgery\\r\\n</td>\n",
       "      <td>NaN</td>\n",
       "      <td>0</td>\n",
       "    </tr>\n",
       "    <tr>\n",
       "      <th>537</th>\n",
       "      <td>MRI for radiosurgery\\r\\n</td>\n",
       "      <td>NaN</td>\n",
       "      <td>0</td>\n",
       "    </tr>\n",
       "    <tr>\n",
       "      <th>716</th>\n",
       "      <td>MRI for radiosurgery \\r\\n</td>\n",
       "      <td>NaN</td>\n",
       "      <td>0</td>\n",
       "    </tr>\n",
       "    <tr>\n",
       "      <th>790</th>\n",
       "      <td>MRI for radiosurgery \\r\\n</td>\n",
       "      <td>NaN</td>\n",
       "      <td>0</td>\n",
       "    </tr>\n",
       "    <tr>\n",
       "      <th>870</th>\n",
       "      <td>MRI for radiosurgery \\r\\n</td>\n",
       "      <td>NaN</td>\n",
       "      <td>0</td>\n",
       "    </tr>\n",
       "    <tr>\n",
       "      <th>1068</th>\n",
       "      <td>MRI for radiosurgery \\r\\n</td>\n",
       "      <td>NaN</td>\n",
       "      <td>0</td>\n",
       "    </tr>\n",
       "    <tr>\n",
       "      <th>1091</th>\n",
       "      <td>MRI for radiosurgery\\r\\n</td>\n",
       "      <td>NaN</td>\n",
       "      <td>0</td>\n",
       "    </tr>\n",
       "    <tr>\n",
       "      <th>1164</th>\n",
       "      <td>MRI for radiosurgery \\r\\n</td>\n",
       "      <td>NaN</td>\n",
       "      <td>0</td>\n",
       "    </tr>\n",
       "    <tr>\n",
       "      <th>1183</th>\n",
       "      <td>MRI for radiosurgery of brain metastasis.\\r\\n</td>\n",
       "      <td>NaN</td>\n",
       "      <td>0</td>\n",
       "    </tr>\n",
       "    <tr>\n",
       "      <th>1288</th>\n",
       "      <td>MRI for radiosurgery \\r\\n</td>\n",
       "      <td>NaN</td>\n",
       "      <td>0</td>\n",
       "    </tr>\n",
       "    <tr>\n",
       "      <th>1501</th>\n",
       "      <td>MRI for radiosurgery \\r\\n</td>\n",
       "      <td>NaN</td>\n",
       "      <td>0</td>\n",
       "    </tr>\n",
       "    <tr>\n",
       "      <th>1567</th>\n",
       "      <td>MRI for radiosurgery\\r\\n</td>\n",
       "      <td>NaN</td>\n",
       "      <td>0</td>\n",
       "    </tr>\n",
       "    <tr>\n",
       "      <th>1677</th>\n",
       "      <td>MRI for radiosurgery\\r\\n</td>\n",
       "      <td>NaN</td>\n",
       "      <td>0</td>\n",
       "    </tr>\n",
       "    <tr>\n",
       "      <th>1896</th>\n",
       "      <td>MRI for radiosurgery \\r\\n</td>\n",
       "      <td>NaN</td>\n",
       "      <td>0</td>\n",
       "    </tr>\n",
       "    <tr>\n",
       "      <th>2213</th>\n",
       "      <td>MRI for radiosurgery \\r\\n</td>\n",
       "      <td>NaN</td>\n",
       "      <td>0</td>\n",
       "    </tr>\n",
       "    <tr>\n",
       "      <th>2479</th>\n",
       "      <td>MRI for radiosurgery\\r\\n</td>\n",
       "      <td>NaN</td>\n",
       "      <td>0</td>\n",
       "    </tr>\n",
       "    <tr>\n",
       "      <th>2718</th>\n",
       "      <td>MRI for radiosurgery \\r\\n</td>\n",
       "      <td>NaN</td>\n",
       "      <td>0</td>\n",
       "    </tr>\n",
       "    <tr>\n",
       "      <th>2773</th>\n",
       "      <td>MRI for radiosurgery \\r\\n</td>\n",
       "      <td>NaN</td>\n",
       "      <td>0</td>\n",
       "    </tr>\n",
       "    <tr>\n",
       "      <th>3078</th>\n",
       "      <td>MRI for radiosurgery \\r\\n</td>\n",
       "      <td>NaN</td>\n",
       "      <td>0</td>\n",
       "    </tr>\n",
       "    <tr>\n",
       "      <th>3165</th>\n",
       "      <td>MRI for radiosurgery \\r\\n</td>\n",
       "      <td>NaN</td>\n",
       "      <td>0</td>\n",
       "    </tr>\n",
       "    <tr>\n",
       "      <th>3380</th>\n",
       "      <td>MRI for radiosurgery \\r\\n</td>\n",
       "      <td>NaN</td>\n",
       "      <td>0</td>\n",
       "    </tr>\n",
       "    <tr>\n",
       "      <th>3897</th>\n",
       "      <td>MRI for radiosurgery \\r\\n</td>\n",
       "      <td>NaN</td>\n",
       "      <td>0</td>\n",
       "    </tr>\n",
       "    <tr>\n",
       "      <th>3959</th>\n",
       "      <td>MRI for radiosurgery \\r\\n</td>\n",
       "      <td>NaN</td>\n",
       "      <td>0</td>\n",
       "    </tr>\n",
       "    <tr>\n",
       "      <th>4262</th>\n",
       "      <td>MRI for radiosurgery\\r\\n</td>\n",
       "      <td>NaN</td>\n",
       "      <td>0</td>\n",
       "    </tr>\n",
       "    <tr>\n",
       "      <th>4368</th>\n",
       "      <td>MRI for radiosurgery \\r\\n</td>\n",
       "      <td>NaN</td>\n",
       "      <td>0</td>\n",
       "    </tr>\n",
       "    <tr>\n",
       "      <th>4811</th>\n",
       "      <td>MRI for radiosurgery \\r\\n</td>\n",
       "      <td>NaN</td>\n",
       "      <td>0</td>\n",
       "    </tr>\n",
       "    <tr>\n",
       "      <th>4887</th>\n",
       "      <td>MRI for radiosurgery \\r\\n</td>\n",
       "      <td>NaN</td>\n",
       "      <td>0</td>\n",
       "    </tr>\n",
       "    <tr>\n",
       "      <th>5374</th>\n",
       "      <td>MRI for radiosurgery \\r\\n</td>\n",
       "      <td>NaN</td>\n",
       "      <td>0</td>\n",
       "    </tr>\n",
       "    <tr>\n",
       "      <th>5637</th>\n",
       "      <td>MRI for GKRS, a malignant mass, left cerebellu...</td>\n",
       "      <td>NaN</td>\n",
       "      <td>0</td>\n",
       "    </tr>\n",
       "    <tr>\n",
       "      <th>5754</th>\n",
       "      <td>MRI for radiosurgery \\r\\n</td>\n",
       "      <td>NaN</td>\n",
       "      <td>0</td>\n",
       "    </tr>\n",
       "    <tr>\n",
       "      <th>5977</th>\n",
       "      <td>MRI for radiosurgery \\r\\n</td>\n",
       "      <td>NaN</td>\n",
       "      <td>0</td>\n",
       "    </tr>\n",
       "    <tr>\n",
       "      <th>6119</th>\n",
       "      <td>MRI for radiosurgery\\r\\n</td>\n",
       "      <td>NaN</td>\n",
       "      <td>0</td>\n",
       "    </tr>\n",
       "  </tbody>\n",
       "</table>\n",
       "</div>"
      ],
      "text/plain": [
       "                                               Findings Conclusion  \\\n",
       "266                           MRI for radiosurgery \\r\\n        NaN   \n",
       "446                            MRI for radiosurgery\\r\\n        NaN   \n",
       "482                            MRI for radiosurgery\\r\\n        NaN   \n",
       "537                            MRI for radiosurgery\\r\\n        NaN   \n",
       "716                           MRI for radiosurgery \\r\\n        NaN   \n",
       "790                           MRI for radiosurgery \\r\\n        NaN   \n",
       "870                           MRI for radiosurgery \\r\\n        NaN   \n",
       "1068                          MRI for radiosurgery \\r\\n        NaN   \n",
       "1091                           MRI for radiosurgery\\r\\n        NaN   \n",
       "1164                          MRI for radiosurgery \\r\\n        NaN   \n",
       "1183      MRI for radiosurgery of brain metastasis.\\r\\n        NaN   \n",
       "1288                          MRI for radiosurgery \\r\\n        NaN   \n",
       "1501                          MRI for radiosurgery \\r\\n        NaN   \n",
       "1567                           MRI for radiosurgery\\r\\n        NaN   \n",
       "1677                           MRI for radiosurgery\\r\\n        NaN   \n",
       "1896                          MRI for radiosurgery \\r\\n        NaN   \n",
       "2213                          MRI for radiosurgery \\r\\n        NaN   \n",
       "2479                           MRI for radiosurgery\\r\\n        NaN   \n",
       "2718                          MRI for radiosurgery \\r\\n        NaN   \n",
       "2773                          MRI for radiosurgery \\r\\n        NaN   \n",
       "3078                          MRI for radiosurgery \\r\\n        NaN   \n",
       "3165                          MRI for radiosurgery \\r\\n        NaN   \n",
       "3380                          MRI for radiosurgery \\r\\n        NaN   \n",
       "3897                          MRI for radiosurgery \\r\\n        NaN   \n",
       "3959                          MRI for radiosurgery \\r\\n        NaN   \n",
       "4262                           MRI for radiosurgery\\r\\n        NaN   \n",
       "4368                          MRI for radiosurgery \\r\\n        NaN   \n",
       "4811                          MRI for radiosurgery \\r\\n        NaN   \n",
       "4887                          MRI for radiosurgery \\r\\n        NaN   \n",
       "5374                          MRI for radiosurgery \\r\\n        NaN   \n",
       "5637  MRI for GKRS, a malignant mass, left cerebellu...        NaN   \n",
       "5754                          MRI for radiosurgery \\r\\n        NaN   \n",
       "5977                          MRI for radiosurgery \\r\\n        NaN   \n",
       "6119                           MRI for radiosurgery\\r\\n        NaN   \n",
       "\n",
       "      AcuteInfarction  \n",
       "266                 0  \n",
       "446                 0  \n",
       "482                 0  \n",
       "537                 0  \n",
       "716                 0  \n",
       "790                 0  \n",
       "870                 0  \n",
       "1068                0  \n",
       "1091                0  \n",
       "1164                0  \n",
       "1183                0  \n",
       "1288                0  \n",
       "1501                0  \n",
       "1567                0  \n",
       "1677                0  \n",
       "1896                0  \n",
       "2213                0  \n",
       "2479                0  \n",
       "2718                0  \n",
       "2773                0  \n",
       "3078                0  \n",
       "3165                0  \n",
       "3380                0  \n",
       "3897                0  \n",
       "3959                0  \n",
       "4262                0  \n",
       "4368                0  \n",
       "4811                0  \n",
       "4887                0  \n",
       "5374                0  \n",
       "5637                0  \n",
       "5754                0  \n",
       "5977                0  \n",
       "6119                0  "
      ]
     },
     "execution_count": 5,
     "metadata": {},
     "output_type": "execute_result"
    }
   ],
   "source": [
    "'''\n",
    " Conclusion 값이 없는 데이터\n",
    " --> 소견이 없다면 뇌경색이 없다고 판단해도 되는 부분?\n",
    " 1. MRI for radiosurgery\n",
    " 2. MRI for GKRS, a malignant mass, left cerebellum.\n",
    " 3. MRI for radiosurgery of brain metastasis\n",
    "'''\n",
    "df[df['Conclusion'].isnull()]"
   ]
  },
  {
   "cell_type": "code",
   "execution_count": 4,
   "metadata": {},
   "outputs": [
    {
     "name": "stdout",
     "output_type": "stream",
     "text": [
      "Findings 결측값 = 1376\n",
      "Conclusion 결측값 = 34\n"
     ]
    }
   ],
   "source": [
    "# Findings에는 1376개의 NaN(결측치) 데이터 존재.\n",
    "# Conclusion에는 34개의 NaN(결측치) 데이터존재.\n",
    "print(f\"Findings 결측값 = {df['Findings'].isnull().sum()}\")\n",
    "print(f\"Conclusion 결측값 = {df['Conclusion'].isnull().sum()}\")\n",
    "\n",
    "# 모든 결측값에 빈 문자열 대체\n",
    "df.fillna('', inplace=True)"
   ]
  },
  {
   "cell_type": "code",
   "execution_count": 5,
   "metadata": {},
   "outputs": [
    {
     "name": "stdout",
     "output_type": "stream",
     "text": [
      "Findings 결측값 = 0\n",
      "Conclusion 결측값 = 0\n"
     ]
    }
   ],
   "source": [
    "# 결측치 처리 결과\n",
    "print(f\"Findings 결측값 = {df['Findings'].isnull().sum()}\")\n",
    "print(f\"Conclusion 결측값 = {df['Conclusion'].isnull().sum()}\")"
   ]
  },
  {
   "cell_type": "code",
   "execution_count": 18,
   "metadata": {},
   "outputs": [
    {
     "name": "stdout",
     "output_type": "stream",
     "text": [
      "                                               Findings  \\\n",
      "0     Clinical information  두부외상 후 후유증 평가  Axial T1W...   \n",
      "1     Clinical information  lung cancer Axial T1WI, ...   \n",
      "2     Clinical information  Multiple Sclerosis  Axia...   \n",
      "3     Clinical information  patient with DLBCL.  Axi...   \n",
      "4     Clinical information  Transient cerebral ische...   \n",
      "...                                                 ...   \n",
      "6185  Clinical information  s/p Removal of vestibula...   \n",
      "6186  CI, headache of sudden onset known UIA. Axial ...   \n",
      "6187  Clinical information  patient with DLBCL.  Axi...   \n",
      "6188  Clinical information  Lung cancer patient 임.  ...   \n",
      "6189  CI, cerebellar mass metastatic carcinoma, a ne...   \n",
      "\n",
      "                                             Conclusion  AcuteInfarction  \n",
      "0     Encephalomalacic change in both frontal lobes,...                0  \n",
      "1     No change of focal enhancing lesion in left ce...                0  \n",
      "2     No significant interval change of abnormal hyp...                0  \n",
      "3     Decreased extent of enhancing mass in the left...                0  \n",
      "4     Acute infarctions at right BG, right FPT lobe....                1  \n",
      "...                                                 ...              ...  \n",
      "6185  No evidence of remnant mass or remarkable post...                0  \n",
      "6186  No evidence of acute infarctions. Encephalomal...                0  \n",
      "6187  Increased size of homogeneous enhancing mass a...                0  \n",
      "6188            No evidence of intracranial metastasis.                0  \n",
      "6189  Three new hemorrhagic metastases Rt O 1.0 cm, ...                0  \n",
      "\n",
      "[6190 rows x 3 columns]\n"
     ]
    }
   ],
   "source": [
    "# '\\n' 문자를 띄어쓰기 처리\n",
    "# '\\r' 문자를 삭제\n",
    "# 별도의 특수문자(-, >, <, (, ) 삭제처리 및 항목 번호구조 ('1.', '2.', '1)', '2)'...) 삭제처리)\n",
    "for i in range(df.shape[0]):\n",
    "    row = df.iloc[i]\n",
    "    Ftext = ' '.join(map(str, row['Findings'].split('\\n'))).strip()\n",
    "    Ftext = Ftext.replace('\\r', '')\n",
    "    Ctext = ' '.join(map(str, row['Conclusion'].split('\\n'))).strip()\n",
    "    Ctext = Ctext.replace('\\r', '')\n",
    "    \n",
    "    Ftext = re.sub('[1-9]\\.[^0-9]|[1-9]\\)|[\\-\\<\\>\\(\\)\\:]', \"\", Ftext)\n",
    "    Ctext = re.sub('[1-9]\\.[^0-9]|[1-9]\\)|[\\-\\<\\>\\(\\)\\:]', \"\", Ctext)\n",
    "\n",
    "    Atext = int(str(row['AcuteInfarction']).strip())\n",
    "\n",
    "    df.iloc[i] = [Ftext, Ctext, Atext]\n",
    "    \n",
    "print(df)"
   ]
  },
  {
   "cell_type": "code",
   "execution_count": 20,
   "metadata": {},
   "outputs": [],
   "source": [
    "df.to_csv('.\\정제결과.csv', encoding='cp949', index=None)"
   ]
  },
  {
   "cell_type": "code",
   "execution_count": 7,
   "metadata": {},
   "outputs": [
    {
     "data": {
      "text/plain": [
       "(6190, 3)"
      ]
     },
     "execution_count": 7,
     "metadata": {},
     "output_type": "execute_result"
    }
   ],
   "source": [
    "df.shape"
   ]
  },
  {
   "cell_type": "code",
   "execution_count": 8,
   "metadata": {},
   "outputs": [],
   "source": [
    "import re  #정규표현식\n",
    "\n",
    "# 1. 순서 번호 삭제 (1., 2., 3., ...)\n",
    "# 2. 특수문자 포함된 구조 삭제. 단 '.'은 소수점 표현 때문에 살림. ('-,<>()')\n",
    "p = re.compile('[1-9]\\.[^0-9]')\n",
    "\n",
    "m = p.findall('''\"1. No definite abnormal enhancing lesion on this MR.\n",
    "2. Old infarctions at the right cerebellum, right temporal lobe, both BG.\n",
    "3. Diffuse brain atrophy.\n",
    "4. Microangiopathy.\n",
    "5. Both maxillary sinusitis.''')"
   ]
  },
  {
   "cell_type": "code",
   "execution_count": 9,
   "metadata": {},
   "outputs": [
    {
     "name": "stdout",
     "output_type": "stream",
     "text": [
      "['1. ', '2. ', '3. ', '4. ', '5. ']\n"
     ]
    }
   ],
   "source": [
    "print(m)"
   ]
  },
  {
   "cell_type": "code",
   "execution_count": 27,
   "metadata": {},
   "outputs": [
    {
     "name": "stdout",
     "output_type": "stream",
     "text": [
      "\"Two metastases in the brain.\n",
      "  Rt parietal lobe: increased extent of enhancing portion indeterminate change.\n",
      "      probable tumor progression DDx. radiationinduced change.\n",
      "     Rec F/U or MR Perfusion, if clinically necessary.\n",
      "  Midbrain: slightly decreased extent of enhancing portion.\n"
     ]
    }
   ],
   "source": [
    "str = '''\"Two metastases in the brain.\n",
    " 1) Rt parietal lobe: increased extent of enhancing portion (indeterminate change).\n",
    "     -> probable tumor progression (DDx. radiation-induced change).\n",
    "     Rec) F/U or MR Perfusion, if clinically necessary.\n",
    " 2) Midbrain: slightly decreased extent of enhancing portion.'''\n",
    "for t in m:\n",
    "    result = re.sub('[1-9]\\.[^0-9]|[1-9]\\)|[\\-\\<\\>\\(\\)\\:]', \"\", str)\n",
    "print(result)"
   ]
  },
  {
   "cell_type": "code",
   "execution_count": 24,
   "metadata": {},
   "outputs": [
    {
     "name": "stdout",
     "output_type": "stream",
     "text": [
      "Requirement already satisfied: pip in c:\\anaconda3\\lib\\site-packages (22.1.2)"
     ]
    },
    {
     "name": "stderr",
     "output_type": "stream",
     "text": [
      "ERROR: To modify pip, please run the following command:\n",
      "c:\\anaconda3\\python.exe -m pip install --upgrade pip\n"
     ]
    },
    {
     "name": "stdout",
     "output_type": "stream",
     "text": [
      "\n",
      "Collecting pip\n",
      "  Downloading pip-22.2.2-py3-none-any.whl (2.0 MB)\n",
      "     ---------------------------------------- 2.0/2.0 MB 10.0 MB/s eta 0:00:00\n",
      "\n",
      "[notice] A new release of pip available: 22.1.2 -> 22.2.2\n",
      "[notice] To update, run: python.exe -m pip install --upgrade pip\n",
      "Requirement already satisfied: tensorflow-cpu in c:\\anaconda3\\lib\\site-packages (2.5.0)\n",
      "Requirement already satisfied: absl-py~=0.10 in c:\\anaconda3\\lib\\site-packages (from tensorflow-cpu) (0.11.0)\n",
      "Requirement already satisfied: grpcio~=1.34.0 in c:\\anaconda3\\lib\\site-packages (from tensorflow-cpu) (1.34.1)\n",
      "Requirement already satisfied: tensorflow-estimator<2.6.0,>=2.5.0rc0 in c:\\anaconda3\\lib\\site-packages (from tensorflow-cpu) (2.5.0)\n",
      "Requirement already satisfied: h5py~=3.1.0 in c:\\anaconda3\\lib\\site-packages (from tensorflow-cpu) (3.1.0)\n",
      "Requirement already satisfied: astunparse~=1.6.3 in c:\\anaconda3\\lib\\site-packages (from tensorflow-cpu) (1.6.3)\n",
      "Requirement already satisfied: flatbuffers~=1.12.0 in c:\\anaconda3\\lib\\site-packages (from tensorflow-cpu) (1.12)\n",
      "Requirement already satisfied: google-pasta~=0.2 in c:\\anaconda3\\lib\\site-packages (from tensorflow-cpu) (0.2.0)\n",
      "Requirement already satisfied: six~=1.15.0 in c:\\users\\cjsqh\\appdata\\roaming\\python\\python38\\site-packages (from tensorflow-cpu) (1.15.0)\n",
      "Requirement already satisfied: keras-preprocessing~=1.1.2 in c:\\anaconda3\\lib\\site-packages (from tensorflow-cpu) (1.1.2)\n",
      "Requirement already satisfied: opt-einsum~=3.3.0 in c:\\anaconda3\\lib\\site-packages (from tensorflow-cpu) (3.3.0)\n",
      "Requirement already satisfied: typing-extensions~=3.7.4 in c:\\anaconda3\\lib\\site-packages (from tensorflow-cpu) (3.7.4.3)\n",
      "Requirement already satisfied: protobuf>=3.9.2 in c:\\anaconda3\\lib\\site-packages (from tensorflow-cpu) (3.15.3)\n",
      "Requirement already satisfied: keras-nightly~=2.5.0.dev in c:\\anaconda3\\lib\\site-packages (from tensorflow-cpu) (2.5.0.dev2021032900)\n",
      "Requirement already satisfied: wrapt~=1.12.1 in c:\\users\\cjsqh\\appdata\\roaming\\python\\python38\\site-packages (from tensorflow-cpu) (1.12.1)\n",
      "Requirement already satisfied: termcolor~=1.1.0 in c:\\anaconda3\\lib\\site-packages (from tensorflow-cpu) (1.1.0)\n",
      "Requirement already satisfied: gast==0.4.0 in c:\\anaconda3\\lib\\site-packages (from tensorflow-cpu) (0.4.0)\n",
      "Requirement already satisfied: numpy~=1.19.2 in c:\\anaconda3\\lib\\site-packages (from tensorflow-cpu) (1.19.2)\n",
      "Requirement already satisfied: tensorboard~=2.5 in c:\\anaconda3\\lib\\site-packages (from tensorflow-cpu) (2.5.0)\n",
      "Requirement already satisfied: wheel~=0.35 in c:\\anaconda3\\lib\\site-packages (from tensorflow-cpu) (0.35.1)\n",
      "Requirement already satisfied: markdown>=2.6.8 in c:\\anaconda3\\lib\\site-packages (from tensorboard~=2.5->tensorflow-cpu) (3.3.4)\n",
      "Requirement already satisfied: setuptools>=41.0.0 in c:\\anaconda3\\lib\\site-packages (from tensorboard~=2.5->tensorflow-cpu) (50.3.1.post20201107)\n",
      "Requirement already satisfied: werkzeug>=0.11.15 in c:\\anaconda3\\lib\\site-packages (from tensorboard~=2.5->tensorflow-cpu) (1.0.1)\n",
      "Requirement already satisfied: tensorboard-plugin-wit>=1.6.0 in c:\\anaconda3\\lib\\site-packages (from tensorboard~=2.5->tensorflow-cpu) (1.8.0)\n",
      "Requirement already satisfied: google-auth-oauthlib<0.5,>=0.4.1 in c:\\anaconda3\\lib\\site-packages (from tensorboard~=2.5->tensorflow-cpu) (0.4.2)\n",
      "Requirement already satisfied: tensorboard-data-server<0.7.0,>=0.6.0 in c:\\anaconda3\\lib\\site-packages (from tensorboard~=2.5->tensorflow-cpu) (0.6.1)\n",
      "Requirement already satisfied: google-auth<2,>=1.6.3 in c:\\anaconda3\\lib\\site-packages (from tensorboard~=2.5->tensorflow-cpu) (1.27.0)\n",
      "Requirement already satisfied: requests<3,>=2.21.0 in c:\\anaconda3\\lib\\site-packages (from tensorboard~=2.5->tensorflow-cpu) (2.24.0)\n",
      "Requirement already satisfied: cachetools<5.0,>=2.0.0 in c:\\anaconda3\\lib\\site-packages (from google-auth<2,>=1.6.3->tensorboard~=2.5->tensorflow-cpu) (4.2.1)\n",
      "Requirement already satisfied: rsa<5,>=3.1.4 in c:\\anaconda3\\lib\\site-packages (from google-auth<2,>=1.6.3->tensorboard~=2.5->tensorflow-cpu) (4.7.2)\n",
      "Requirement already satisfied: pyasn1-modules>=0.2.1 in c:\\anaconda3\\lib\\site-packages (from google-auth<2,>=1.6.3->tensorboard~=2.5->tensorflow-cpu) (0.2.8)\n",
      "Requirement already satisfied: requests-oauthlib>=0.7.0 in c:\\anaconda3\\lib\\site-packages (from google-auth-oauthlib<0.5,>=0.4.1->tensorboard~=2.5->tensorflow-cpu) (1.3.0)\n",
      "Requirement already satisfied: idna<3,>=2.5 in c:\\anaconda3\\lib\\site-packages (from requests<3,>=2.21.0->tensorboard~=2.5->tensorflow-cpu) (2.10)\n",
      "Requirement already satisfied: urllib3!=1.25.0,!=1.25.1,<1.26,>=1.21.1 in c:\\anaconda3\\lib\\site-packages (from requests<3,>=2.21.0->tensorboard~=2.5->tensorflow-cpu) (1.25.11)\n",
      "Requirement already satisfied: certifi>=2017.4.17 in c:\\anaconda3\\lib\\site-packages (from requests<3,>=2.21.0->tensorboard~=2.5->tensorflow-cpu) (2020.6.20)\n",
      "Requirement already satisfied: chardet<4,>=3.0.2 in c:\\anaconda3\\lib\\site-packages (from requests<3,>=2.21.0->tensorboard~=2.5->tensorflow-cpu) (3.0.4)\n",
      "Requirement already satisfied: pyasn1<0.5.0,>=0.4.6 in c:\\anaconda3\\lib\\site-packages (from pyasn1-modules>=0.2.1->google-auth<2,>=1.6.3->tensorboard~=2.5->tensorflow-cpu) (0.4.8)\n",
      "Requirement already satisfied: oauthlib>=3.0.0 in c:\\anaconda3\\lib\\site-packages (from requests-oauthlib>=0.7.0->google-auth-oauthlib<0.5,>=0.4.1->tensorboard~=2.5->tensorflow-cpu) (3.1.0)\n",
      "\n",
      "[notice] A new release of pip available: 22.1.2 -> 22.2.2\n",
      "[notice] To update, run: python.exe -m pip install --upgrade pip\n",
      "Requirement already satisfied: transformers in c:\\anaconda3\\lib\\site-packages (4.22.2)\n",
      "Requirement already satisfied: huggingface-hub<1.0,>=0.9.0 in c:\\anaconda3\\lib\\site-packages (from transformers) (0.10.0)\n",
      "Requirement already satisfied: tokenizers!=0.11.3,<0.13,>=0.11.1 in c:\\anaconda3\\lib\\site-packages (from transformers) (0.12.1)\n",
      "Requirement already satisfied: filelock in c:\\anaconda3\\lib\\site-packages (from transformers) (3.0.12)\n",
      "Requirement already satisfied: regex!=2019.12.17 in c:\\anaconda3\\lib\\site-packages (from transformers) (2020.10.15)\n",
      "Requirement already satisfied: pyyaml>=5.1 in c:\\anaconda3\\lib\\site-packages (from transformers) (5.3.1)\n",
      "Requirement already satisfied: tqdm>=4.27 in c:\\anaconda3\\lib\\site-packages (from transformers) (4.50.2)\n",
      "Requirement already satisfied: numpy>=1.17 in c:\\anaconda3\\lib\\site-packages (from transformers) (1.19.2)\n",
      "Requirement already satisfied: requests in c:\\anaconda3\\lib\\site-packages (from transformers) (2.24.0)\n",
      "Requirement already satisfied: packaging>=20.0 in c:\\anaconda3\\lib\\site-packages (from transformers) (21.3)\n",
      "Requirement already satisfied: typing-extensions>=3.7.4.3 in c:\\anaconda3\\lib\\site-packages (from huggingface-hub<1.0,>=0.9.0->transformers) (3.7.4.3)\n",
      "Requirement already satisfied: pyparsing!=3.0.5,>=2.0.2 in c:\\anaconda3\\lib\\site-packages (from packaging>=20.0->transformers) (2.4.7)\n",
      "Requirement already satisfied: urllib3!=1.25.0,!=1.25.1,<1.26,>=1.21.1 in c:\\anaconda3\\lib\\site-packages (from requests->transformers) (1.25.11)\n",
      "Requirement already satisfied: chardet<4,>=3.0.2 in c:\\anaconda3\\lib\\site-packages (from requests->transformers) (3.0.4)\n",
      "Requirement already satisfied: idna<3,>=2.5 in c:\\anaconda3\\lib\\site-packages (from requests->transformers) (2.10)\n",
      "Requirement already satisfied: certifi>=2017.4.17 in c:\\anaconda3\\lib\\site-packages (from requests->transformers) (2020.6.20)\n",
      "\n",
      "[notice] A new release of pip available: 22.1.2 -> 22.2.2\n",
      "[notice] To update, run: python.exe -m pip install --upgrade pip\n"
     ]
    }
   ],
   "source": [
    " !pip3 install --upgrade pip\n",
    " !pip3 install tensorflow-cpu\n",
    " !pip3 install transformers\n",
    "# !pip3 install tensorflow==2.3.0\n",
    "\n",
    "#!pip3 install transformers"
   ]
  },
  {
   "cell_type": "code",
   "execution_count": 7,
   "metadata": {},
   "outputs": [
    {
     "name": "stderr",
     "output_type": "stream",
     "text": [
      "The cache for model files in Transformers v4.22.0 has been updated. Migrating your old cache. This is a one-time only operation. You can interrupt this and resume the migration later on by calling `transformers.utils.move_cache()`.\n"
     ]
    },
    {
     "name": "stdout",
     "output_type": "stream",
     "text": [
      "Moving 0 files to the new cache system\n"
     ]
    },
    {
     "data": {
      "application/vnd.jupyter.widget-view+json": {
       "model_id": "80da6c6b4aa444e480eb1f9944051506",
       "version_major": 2,
       "version_minor": 0
      },
      "text/plain": [
       "HBox(children=(HTML(value=''), FloatProgress(value=1.0, bar_style='info', layout=Layout(width='20px'), max=1.0…"
      ]
     },
     "metadata": {},
     "output_type": "display_data"
    },
    {
     "name": "stdout",
     "output_type": "stream",
     "text": [
      "\n"
     ]
    }
   ],
   "source": [
    "import pandas as pd\n",
    "from transformers import BertTokenizer\n",
    "tokenizer = BertTokenizer.from_pretrained(\"bert-base-uncased\") # Bert-base의 토크나이저"
   ]
  },
  {
   "cell_type": "code",
   "execution_count": 8,
   "metadata": {},
   "outputs": [
    {
     "ename": "OSError",
     "evalue": "wiki_multilingual_cased is not a local folder and is not a valid model identifier listed on 'https://huggingface.co/models'\nIf this is a private repository, make sure to pass a token having permission to this repo with `use_auth_token` or log in with `huggingface-cli login` and pass `use_auth_token=True`.",
     "output_type": "error",
     "traceback": [
      "\u001b[1;31m---------------------------------------------------------------------------\u001b[0m",
      "\u001b[1;31mHTTPError\u001b[0m                                 Traceback (most recent call last)",
      "\u001b[1;32mC:\\anaconda3\\lib\\site-packages\\huggingface_hub\\utils\\_errors.py\u001b[0m in \u001b[0;36mhf_raise_for_status\u001b[1;34m(response, endpoint_name)\u001b[0m\n\u001b[0;32m    212\u001b[0m     \u001b[1;32mtry\u001b[0m\u001b[1;33m:\u001b[0m\u001b[1;33m\u001b[0m\u001b[1;33m\u001b[0m\u001b[0m\n\u001b[1;32m--> 213\u001b[1;33m         \u001b[0mresponse\u001b[0m\u001b[1;33m.\u001b[0m\u001b[0mraise_for_status\u001b[0m\u001b[1;33m(\u001b[0m\u001b[1;33m)\u001b[0m\u001b[1;33m\u001b[0m\u001b[1;33m\u001b[0m\u001b[0m\n\u001b[0m\u001b[0;32m    214\u001b[0m     \u001b[1;32mexcept\u001b[0m \u001b[0mHTTPError\u001b[0m \u001b[1;32mas\u001b[0m \u001b[0me\u001b[0m\u001b[1;33m:\u001b[0m\u001b[1;33m\u001b[0m\u001b[1;33m\u001b[0m\u001b[0m\n",
      "\u001b[1;32mC:\\anaconda3\\lib\\site-packages\\requests\\models.py\u001b[0m in \u001b[0;36mraise_for_status\u001b[1;34m(self)\u001b[0m\n\u001b[0;32m    940\u001b[0m         \u001b[1;32mif\u001b[0m \u001b[0mhttp_error_msg\u001b[0m\u001b[1;33m:\u001b[0m\u001b[1;33m\u001b[0m\u001b[1;33m\u001b[0m\u001b[0m\n\u001b[1;32m--> 941\u001b[1;33m             \u001b[1;32mraise\u001b[0m \u001b[0mHTTPError\u001b[0m\u001b[1;33m(\u001b[0m\u001b[0mhttp_error_msg\u001b[0m\u001b[1;33m,\u001b[0m \u001b[0mresponse\u001b[0m\u001b[1;33m=\u001b[0m\u001b[0mself\u001b[0m\u001b[1;33m)\u001b[0m\u001b[1;33m\u001b[0m\u001b[1;33m\u001b[0m\u001b[0m\n\u001b[0m\u001b[0;32m    942\u001b[0m \u001b[1;33m\u001b[0m\u001b[0m\n",
      "\u001b[1;31mHTTPError\u001b[0m: 401 Client Error: Unauthorized for url: https://huggingface.co/wiki_multilingual_cased/resolve/main/vocab.txt",
      "\nThe above exception was the direct cause of the following exception:\n",
      "\u001b[1;31mRepositoryNotFoundError\u001b[0m                   Traceback (most recent call last)",
      "\u001b[1;32mC:\\anaconda3\\lib\\site-packages\\transformers\\utils\\hub.py\u001b[0m in \u001b[0;36mcached_file\u001b[1;34m(path_or_repo_id, filename, cache_dir, force_download, resume_download, proxies, use_auth_token, revision, local_files_only, subfolder, user_agent, _raise_exceptions_for_missing_entries, _raise_exceptions_for_connection_errors, _commit_hash)\u001b[0m\n\u001b[0;32m    407\u001b[0m         \u001b[1;31m# Load from URL or cache if already cached\u001b[0m\u001b[1;33m\u001b[0m\u001b[1;33m\u001b[0m\u001b[1;33m\u001b[0m\u001b[0m\n\u001b[1;32m--> 408\u001b[1;33m         resolved_file = hf_hub_download(\n\u001b[0m\u001b[0;32m    409\u001b[0m             \u001b[0mpath_or_repo_id\u001b[0m\u001b[1;33m,\u001b[0m\u001b[1;33m\u001b[0m\u001b[1;33m\u001b[0m\u001b[0m\n",
      "\u001b[1;32mC:\\anaconda3\\lib\\site-packages\\huggingface_hub\\file_download.py\u001b[0m in \u001b[0;36mhf_hub_download\u001b[1;34m(repo_id, filename, subfolder, repo_type, revision, library_name, library_version, cache_dir, user_agent, force_download, force_filename, proxies, etag_timeout, resume_download, use_auth_token, local_files_only, legacy_cache_layout)\u001b[0m\n\u001b[0;32m   1052\u001b[0m             \u001b[1;32mtry\u001b[0m\u001b[1;33m:\u001b[0m\u001b[1;33m\u001b[0m\u001b[1;33m\u001b[0m\u001b[0m\n\u001b[1;32m-> 1053\u001b[1;33m                 metadata = get_hf_file_metadata(\n\u001b[0m\u001b[0;32m   1054\u001b[0m                     \u001b[0murl\u001b[0m\u001b[1;33m=\u001b[0m\u001b[0murl\u001b[0m\u001b[1;33m,\u001b[0m\u001b[1;33m\u001b[0m\u001b[1;33m\u001b[0m\u001b[0m\n",
      "\u001b[1;32mC:\\anaconda3\\lib\\site-packages\\huggingface_hub\\file_download.py\u001b[0m in \u001b[0;36mget_hf_file_metadata\u001b[1;34m(url, use_auth_token, proxies, timeout)\u001b[0m\n\u001b[0;32m   1358\u001b[0m     )\n\u001b[1;32m-> 1359\u001b[1;33m     \u001b[0mhf_raise_for_status\u001b[0m\u001b[1;33m(\u001b[0m\u001b[0mr\u001b[0m\u001b[1;33m)\u001b[0m\u001b[1;33m\u001b[0m\u001b[1;33m\u001b[0m\u001b[0m\n\u001b[0m\u001b[0;32m   1360\u001b[0m \u001b[1;33m\u001b[0m\u001b[0m\n",
      "\u001b[1;32mC:\\anaconda3\\lib\\site-packages\\huggingface_hub\\utils\\_errors.py\u001b[0m in \u001b[0;36mhf_raise_for_status\u001b[1;34m(response, endpoint_name)\u001b[0m\n\u001b[0;32m    241\u001b[0m             )\n\u001b[1;32m--> 242\u001b[1;33m             \u001b[1;32mraise\u001b[0m \u001b[0mRepositoryNotFoundError\u001b[0m\u001b[1;33m(\u001b[0m\u001b[0mmessage\u001b[0m\u001b[1;33m,\u001b[0m \u001b[0mresponse\u001b[0m\u001b[1;33m)\u001b[0m \u001b[1;32mfrom\u001b[0m \u001b[0me\u001b[0m\u001b[1;33m\u001b[0m\u001b[1;33m\u001b[0m\u001b[0m\n\u001b[0m\u001b[0;32m    243\u001b[0m \u001b[1;33m\u001b[0m\u001b[0m\n",
      "\u001b[1;31mRepositoryNotFoundError\u001b[0m: 401 Client Error. (Request ID: OAitA0CKWjRg4vYCzX_Ew)\n\nRepository Not Found for url: https://huggingface.co/wiki_multilingual_cased/resolve/main/vocab.txt.\nPlease make sure you specified the correct `repo_id` and `repo_type`.\nIf the repo is private, make sure you are authenticated.",
      "\nDuring handling of the above exception, another exception occurred:\n",
      "\u001b[1;31mOSError\u001b[0m                                   Traceback (most recent call last)",
      "\u001b[1;32m<ipython-input-8-5910e128f175>\u001b[0m in \u001b[0;36m<module>\u001b[1;34m\u001b[0m\n\u001b[1;32m----> 1\u001b[1;33m \u001b[0mtokenizer\u001b[0m \u001b[1;33m=\u001b[0m \u001b[0mBertTokenizer\u001b[0m\u001b[1;33m.\u001b[0m\u001b[0mfrom_pretrained\u001b[0m\u001b[1;33m(\u001b[0m\u001b[1;34m\"wiki_multilingual_cased\"\u001b[0m\u001b[1;33m)\u001b[0m\u001b[1;33m\u001b[0m\u001b[1;33m\u001b[0m\u001b[0m\n\u001b[0m\u001b[0;32m      2\u001b[0m \u001b[1;33m\u001b[0m\u001b[0m\n\u001b[0;32m      3\u001b[0m \u001b[0mresult\u001b[0m \u001b[1;33m=\u001b[0m \u001b[0mtokenizer\u001b[0m\u001b[1;33m.\u001b[0m\u001b[0mtokenize\u001b[0m\u001b[1;33m(\u001b[0m\u001b[1;34m'''CI, F/U for cerebral metastases, s/p GKRS. Axial T1WI, sagittal T1WI, axial T2WI, axial FLAIR, axial T2* GRE image 획득하였으며 조영증강을 시행함.  Brain, CSF space, and related findings Multiple cerebral metastases.   Rt frontal lobe 6 lesions     A. Middle frontal gyrus 9 mm  8mm.     B. Other smaller lesions all slightly decreased or no change in size   Rt occipital lobe  all slightly decreased in size.   Rt parietal lobe  slightly decreased in size.   Lt cerebellum  slightly decreased in size.  Slightly decreased extent of an indeterminate enhancement at the left subinsular area.    Rec F/U to exclude metastasis.  New appearance of an indeterminate enhancing lesion at the right frontal lobe Skull, PNS, orbits, and temporal Unremarkable.'''\u001b[0m\u001b[1;33m)\u001b[0m\u001b[1;33m\u001b[0m\u001b[1;33m\u001b[0m\u001b[0m\n",
      "\u001b[1;32mC:\\anaconda3\\lib\\site-packages\\transformers\\tokenization_utils_base.py\u001b[0m in \u001b[0;36mfrom_pretrained\u001b[1;34m(cls, pretrained_model_name_or_path, *init_inputs, **kwargs)\u001b[0m\n\u001b[0;32m   1732\u001b[0m                 \u001b[0mresolved_vocab_files\u001b[0m\u001b[1;33m[\u001b[0m\u001b[0mfile_id\u001b[0m\u001b[1;33m]\u001b[0m \u001b[1;33m=\u001b[0m \u001b[0mdownload_url\u001b[0m\u001b[1;33m(\u001b[0m\u001b[0mfile_path\u001b[0m\u001b[1;33m,\u001b[0m \u001b[0mproxies\u001b[0m\u001b[1;33m=\u001b[0m\u001b[0mproxies\u001b[0m\u001b[1;33m)\u001b[0m\u001b[1;33m\u001b[0m\u001b[1;33m\u001b[0m\u001b[0m\n\u001b[0;32m   1733\u001b[0m             \u001b[1;32melse\u001b[0m\u001b[1;33m:\u001b[0m\u001b[1;33m\u001b[0m\u001b[1;33m\u001b[0m\u001b[0m\n\u001b[1;32m-> 1734\u001b[1;33m                 resolved_vocab_files[file_id] = cached_file(\n\u001b[0m\u001b[0;32m   1735\u001b[0m                     \u001b[0mpretrained_model_name_or_path\u001b[0m\u001b[1;33m,\u001b[0m\u001b[1;33m\u001b[0m\u001b[1;33m\u001b[0m\u001b[0m\n\u001b[0;32m   1736\u001b[0m                     \u001b[0mfile_path\u001b[0m\u001b[1;33m,\u001b[0m\u001b[1;33m\u001b[0m\u001b[1;33m\u001b[0m\u001b[0m\n",
      "\u001b[1;32mC:\\anaconda3\\lib\\site-packages\\transformers\\utils\\hub.py\u001b[0m in \u001b[0;36mcached_file\u001b[1;34m(path_or_repo_id, filename, cache_dir, force_download, resume_download, proxies, use_auth_token, revision, local_files_only, subfolder, user_agent, _raise_exceptions_for_missing_entries, _raise_exceptions_for_connection_errors, _commit_hash)\u001b[0m\n\u001b[0;32m    421\u001b[0m \u001b[1;33m\u001b[0m\u001b[0m\n\u001b[0;32m    422\u001b[0m     \u001b[1;32mexcept\u001b[0m \u001b[0mRepositoryNotFoundError\u001b[0m\u001b[1;33m:\u001b[0m\u001b[1;33m\u001b[0m\u001b[1;33m\u001b[0m\u001b[0m\n\u001b[1;32m--> 423\u001b[1;33m         raise EnvironmentError(\n\u001b[0m\u001b[0;32m    424\u001b[0m             \u001b[1;34mf\"{path_or_repo_id} is not a local folder and is not a valid model identifier \"\u001b[0m\u001b[1;33m\u001b[0m\u001b[1;33m\u001b[0m\u001b[0m\n\u001b[0;32m    425\u001b[0m             \u001b[1;34m\"listed on 'https://huggingface.co/models'\\nIf this is a private repository, make sure to \"\u001b[0m\u001b[1;33m\u001b[0m\u001b[1;33m\u001b[0m\u001b[0m\n",
      "\u001b[1;31mOSError\u001b[0m: wiki_multilingual_cased is not a local folder and is not a valid model identifier listed on 'https://huggingface.co/models'\nIf this is a private repository, make sure to pass a token having permission to this repo with `use_auth_token` or log in with `huggingface-cli login` and pass `use_auth_token=True`."
     ]
    }
   ],
   "source": [
    "tokenizer = BertTokenizer.from_pretrained(\"wiki_multilingual_cased\")\n",
    "\n",
    "result = tokenizer.tokenize('''CI, F/U for cerebral metastases, s/p GKRS. Axial T1WI, sagittal T1WI, axial T2WI, axial FLAIR, axial T2* GRE image 획득하였으며 조영증강을 시행함.  Brain, CSF space, and related findings Multiple cerebral metastases.   Rt frontal lobe 6 lesions     A. Middle frontal gyrus 9 mm  8mm.     B. Other smaller lesions all slightly decreased or no change in size   Rt occipital lobe  all slightly decreased in size.   Rt parietal lobe  slightly decreased in size.   Lt cerebellum  slightly decreased in size.  Slightly decreased extent of an indeterminate enhancement at the left subinsular area.    Rec F/U to exclude metastasis.  New appearance of an indeterminate enhancing lesion at the right frontal lobe Skull, PNS, orbits, and temporal Unremarkable.''')"
   ]
  },
  {
   "cell_type": "code",
   "execution_count": 27,
   "metadata": {},
   "outputs": [
    {
     "name": "stdout",
     "output_type": "stream",
     "text": [
      "['ci', ',', 'f', '/', 'u', 'for', 'cerebral', 'meta', '##sta', '##ses', ',', 's', '/', 'p', 'g', '##kr', '##s', '.', 'axial', 't', '##1', '##wi', ',', 'sa', '##git', '##tal', 't', '##1', '##wi', ',', 'axial', 't', '##2', '##wi', ',', 'axial', 'flair', ',', 'axial', 't', '##2', '*', 'gr', '##e', 'image', '[UNK]', 'ᄌ', '##ᅩ', '##ᄋ', '##ᅧ', '##ᆼ', '##ᄌ', '##ᅳ', '##ᆼ', '##ᄀ', '##ᅡ', '##ᆼ', '##ᄋ', '##ᅳ', '##ᆯ', 'ᄉ', '##ᅵ', '##ᄒ', '##ᅢ', '##ᆼ', '##ᄒ', '##ᅡ', '##ᆷ', '.', 'brain', ',', 'cs', '##f', 'space', ',', 'and', 'related', 'findings', 'multiple', 'cerebral', 'meta', '##sta', '##ses', '.', 'rt', 'frontal', 'lobe', '6', 'lesions', 'a', '.', 'middle', 'frontal', 'g', '##yr', '##us', '9', 'mm', '8', '##mm', '.', 'b', '.', 'other', 'smaller', 'lesions', 'all', 'slightly', 'decreased', 'or', 'no', 'change', 'in', 'size', 'rt', 'o', '##cci', '##pit', '##al', 'lobe', 'all', 'slightly', 'decreased', 'in', 'size', '.', 'rt', 'par', '##ie', '##tal', 'lobe', 'slightly', 'decreased', 'in', 'size', '.', 'lt', 'ce', '##re', '##bell', '##um', 'slightly', 'decreased', 'in', 'size', '.', 'slightly', 'decreased', 'extent', 'of', 'an', 'ind', '##eter', '##minate', 'enhancement', 'at', 'the', 'left', 'sub', '##ins', '##ular', 'area', '.', 'rec', 'f', '/', 'u', 'to', 'exclude', 'meta', '##sta', '##sis', '.', 'new', 'appearance', 'of', 'an', 'ind', '##eter', '##minate', 'enhancing', 'les', '##ion', 'at', 'the', 'right', 'frontal', 'lobe', 'skull', ',', 'p', '##ns', ',', 'orbits', ',', 'and', 'temporal', 'un', '##rem', '##ark', '##able', '.']\n"
     ]
    }
   ],
   "source": [
    "print(result)"
   ]
  },
  {
   "cell_type": "code",
   "execution_count": 10,
   "metadata": {},
   "outputs": [],
   "source": [
    "with open('vocabulary.txt', 'w', encoding='utf-8') as f:\n",
    "  for token in tokenizer.vocab.keys():\n",
    "    f.write(token + '\\n')"
   ]
  },
  {
   "cell_type": "code",
   "execution_count": 2,
   "metadata": {},
   "outputs": [
    {
     "name": "stderr",
     "output_type": "stream",
     "text": [
      "[nltk_data] Downloading package punkt to\n",
      "[nltk_data]     C:\\Users\\cjsqh\\AppData\\Roaming\\nltk_data...\n",
      "[nltk_data]   Package punkt is already up-to-date!\n"
     ]
    },
    {
     "data": {
      "text/plain": [
       "True"
      ]
     },
     "execution_count": 2,
     "metadata": {},
     "output_type": "execute_result"
    }
   ],
   "source": [
    "import nltk\n",
    "from nltk.tokenize import sent_tokenize\n",
    "nltk.download('punkt')"
   ]
  },
  {
   "cell_type": "code",
   "execution_count": 5,
   "metadata": {},
   "outputs": [
    {
     "name": "stdout",
     "output_type": "stream",
     "text": [
      "['조영증강 전후의 영상에서 뇌실질에 이상 신호는 관찰되지 않고, 백질회색질의 구분도 잘 되고 있다.', '소뇌, 뇌간, 송과체, 뇌하수체, 해면정맥동, 시신경로  등에도 이상소견은 보이지 않는다.', '뇌실을 포함한 뇌척수액공간에도 특이소견은 없으며, 축외 병변도 관찰되지 않는다.', '부비동, 안와, 측두골에서도 비정상적인 소견은 보이지 않는다.', '자기공명 뇌혈관 조영 영상에서 이상 소견은 보이지 않는다.']\n"
     ]
    }
   ],
   "source": [
    "text = '''조영증강 전후의 영상에서 뇌실질에 이상 신호는 관찰되지 않고, 백질회색질의 구분도 잘 되고 있다. 소뇌, 뇌간, 송과체, 뇌하수체, 해면정맥동, 시신경로  등에도 이상소견은 보이지 않는다. 뇌실을 포함한 뇌척수액공간에도 특이소견은 없으며, 축외 병변도 관찰되지 않는다. 부비동, 안와, 측두골에서도 비정상적인 소견은 보이지 않는다. 자기공명 뇌혈관 조영 영상에서 이상 소견은 보이지 않는다.'''\n",
    "\n",
    "print(sent_tokenize(text))"
   ]
  },
  {
   "cell_type": "code",
   "execution_count": 26,
   "metadata": {},
   "outputs": [],
   "source": [
    "from tensorflow.keras.preprocessing.text import text_to_word_sequence, Tokenizer"
   ]
  },
  {
   "cell_type": "code",
   "execution_count": 34,
   "metadata": {},
   "outputs": [
    {
     "name": "stderr",
     "output_type": "stream",
     "text": [
      "[nltk_data] Downloading package stopwords to\n",
      "[nltk_data]     C:\\Users\\cjsqh\\AppData\\Roaming\\nltk_data...\n",
      "[nltk_data]   Unzipping corpora\\stopwords.zip.\n"
     ]
    },
    {
     "data": {
      "text/plain": [
       "True"
      ]
     },
     "execution_count": 34,
     "metadata": {},
     "output_type": "execute_result"
    }
   ],
   "source": [
    "nltk.download('stopwords')"
   ]
  },
  {
   "cell_type": "code",
   "execution_count": 27,
   "metadata": {},
   "outputs": [
    {
     "name": "stdout",
     "output_type": "stream",
     "text": [
      "['ci', 'f', 'u', 'cerebral', 'metastases', 'p', 'gkrs', 'axial', 't1wi', 'sagittal', 't1wi', 'axial', 't2wi', 'axial', 'flair', 'axial', 't2', 'gre', 'image', '획득하였으며', '조영증강을', '시행함', 'brain', 'csf', 'space', 'related', 'findings', 'multiple', 'cerebral', 'metastases', 'rt', 'frontal', 'lobe', '6', 'lesions', 'middle', 'frontal', 'gyrus', '9', 'mm', '8mm', 'b', 'smaller', 'lesions', 'slightly', 'decreased', 'change', 'size', 'rt', 'occipital', 'lobe', 'slightly', 'decreased', 'size', 'rt', 'parietal', 'lobe', 'slightly', 'decreased', 'size', 'lt', 'cerebellum', 'slightly', 'decreased', 'size', 'slightly', 'decreased', 'extent', 'indeterminate', 'enhancement', 'left', 'subinsular', 'area', 'rec', 'f', 'u', 'exclude', 'metastasis', 'new', 'appearance', 'indeterminate', 'enhancing', 'lesion', 'right', 'frontal', 'lobe', 'skull', 'pns', 'orbits', 'temporal', 'unremarkable']\n"
     ]
    }
   ],
   "source": [
    "from nltk.corpus import stopwords\n",
    "english_stoprs = set(stopwords.words('english'))\n",
    "text = '''CI, F/U for cerebral metastases, s/p GKRS. Axial T1WI, sagittal T1WI, axial T2WI, axial FLAIR, axial T2* GRE image 획득하였으며 조영증강을 시행함.  Brain, CSF space, and related findings Multiple cerebral metastases.   Rt frontal lobe 6 lesions     A. Middle frontal gyrus 9 mm  8mm.     B. Other smaller lesions all slightly decreased or no change in size   Rt occipital lobe  all slightly decreased in size.   Rt parietal lobe  slightly decreased in size.   Lt cerebellum  slightly decreased in size.  Slightly decreased extent of an indeterminate enhancement at the left subinsular area.    Rec F/U to exclude metastasis.  New appearance of an indeterminate enhancing lesion at the right frontal lobe Skull, PNS, orbits, and temporal Unremarkable.'''\n",
    "words = text_to_word_sequence(text)\n",
    "final = [word for word in words if word not in english_stoprs]\n",
    "print(final)"
   ]
  },
  {
   "cell_type": "code",
   "execution_count": 24,
   "metadata": {},
   "outputs": [
    {
     "name": "stdout",
     "output_type": "stream",
     "text": [
      "{'slightly': 1, 'decreased': 2, 'axial': 3, 'lobe': 4, 'in': 5, 'size': 6, 'rt': 7, 'frontal': 8, 'f/u': 9, 'cerebral': 10, 'metastases': 11, 't1wi': 12, 'and': 13, 'lesions': 14, 'all': 15, 'of': 16, 'an': 17, 'indeterminate': 18, 'at': 19, 'the': 20, 'ci': 21, 'for': 22, 's/p': 23, 'gkrs': 24, 'sagittal': 25, 't2wi': 26, 'flair': 27, 't2': 28, 'gre': 29, 'image': 30, '획득하였으며': 31, '조영증강을': 32, '시행함': 33, 'brain': 34, 'csf': 35, 'space': 36, 'related': 37, 'findings': 38, 'multiple': 39, '6': 40, 'a': 41, 'middle': 42, 'gyrus': 43, '9': 44, 'mm': 45, '8mm': 46, 'b': 47, 'other': 48, 'smaller': 49, 'or': 50, 'no': 51, 'change': 52, 'occipital': 53, 'parietal': 54, 'lt': 55, 'cerebellum': 56, 'extent': 57, 'enhancement': 58, 'left': 59, 'subinsular': 60, 'area': 61, 'rec': 62, 'to': 63, 'exclude': 64, 'metastasis': 65, 'new': 66, 'appearance': 67, 'enhancing': 68, 'lesion': 69, 'right': 70, 'skull': 71, 'pns': 72, 'orbits': 73, 'temporal': 74, 'unremarkable': 75}\n",
      "[[21, 9, 22, 10, 11, 23, 24, 3, 12, 25, 12, 3, 26, 3, 27, 3, 28, 29, 30, 31, 32, 33], [34, 35, 36, 13, 37, 38, 39, 10, 11], [7, 8, 4, 40, 14, 41, 42, 8, 43, 44, 45, 46], [47, 48, 49, 14, 15, 1, 2, 50, 51, 52, 5, 6, 7, 53, 4, 15, 1, 2, 5, 6], [7, 54, 4, 1, 2, 5, 6], [55, 56, 1, 2, 5, 6], [1, 2, 57, 16, 17, 18, 58, 19, 20, 59, 60, 61], [62, 9, 63, 64, 65], [66, 67, 16, 17, 18, 68, 69, 19, 20, 70, 8, 4, 71, 72, 73, 13, 74, 75]]\n",
      "[[21  9 22 10 11 23 24  3 12 25 12  3 26  3 27  3 28 29 30 31 32 33]\n",
      " [ 0  0  0  0  0  0  0  0  0  0  0  0  0 34 35 36 13 37 38 39 10 11]\n",
      " [ 0  0  0  0  0  0  0  0  0  0  7  8  4 40 14 41 42  8 43 44 45 46]\n",
      " [ 0  0 47 48 49 14 15  1  2 50 51 52  5  6  7 53  4 15  1  2  5  6]\n",
      " [ 0  0  0  0  0  0  0  0  0  0  0  0  0  0  0  7 54  4  1  2  5  6]\n",
      " [ 0  0  0  0  0  0  0  0  0  0  0  0  0  0  0  0 55 56  1  2  5  6]\n",
      " [ 0  0  0  0  0  0  0  0  0  0  1  2 57 16 17 18 58 19 20 59 60 61]\n",
      " [ 0  0  0  0  0  0  0  0  0  0  0  0  0  0  0  0  0 62  9 63 64 65]\n",
      " [ 0  0  0  0 66 67 16 17 18 68 69 19 20 70  8  4 71 72 73 13 74 75]]\n"
     ]
    }
   ],
   "source": [
    "import tensorflow as tf\n",
    "from tensorflow.keras.preprocessing.text import Tokenizer\n",
    "from tensorflow.keras.preprocessing.sequence import pad_sequences\n",
    "\n",
    "tokenizer = tf.keras.preprocessing.text.Tokenizer(\n",
    "    num_words = None,\n",
    "    filters = '\"#$%&()*+,-.:;<=>?@[\\]^_`{|}~\\t\\n→',\n",
    "    lower=True,\n",
    "    split=' ', \n",
    "    char_level=False, \n",
    "    oov_token=None, \n",
    "    document_count=0\n",
    ")\n",
    "\n",
    "\n",
    "sentences = [\n",
    "  'CI, F/U for cerebral metastases, s/p GKRS. Axial T1WI, sagittal T1WI, axial T2WI, axial FLAIR, axial T2* GRE image 획득하였으며 조영증강을 시행함.',\n",
    "  'Brain, CSF space, and related findings Multiple cerebral metastases.',\n",
    "  'Rt frontal lobe 6 lesions A. Middle frontal gyrus 9 mm  8mm.',\n",
    "  'B. Other smaller lesions all slightly decreased or no change in size   Rt occipital lobe  all slightly decreased in size.',\n",
    "  'Rt parietal lobe  slightly decreased in size.',\n",
    "  'Lt cerebellum  slightly decreased in size.',\n",
    "  'Slightly decreased extent of an indeterminate enhancement at the left subinsular area.',\n",
    "  '    Rec F/U to exclude metastasis.',\n",
    "  '  New appearance of an indeterminate enhancing lesion at the right frontal lobe Skull, PNS, orbits, and temporal Unremarkable.'\n",
    "]\n",
    "\n",
    "#tokenizer = Tokenizer(num_words = 100)\n",
    "tokenizer.fit_on_texts(sentences)\n",
    "word_dic = tokenizer.word_index\n",
    "print(word_dic)\n",
    "\n",
    "sequences = tokenizer.texts_to_sequences(sentences)\n",
    "print(sequences)\n",
    "\n",
    "padded = pad_sequences(sequences)\n",
    "print(padded)\n"
   ]
  }
 ],
 "metadata": {
  "kernelspec": {
   "display_name": "Python 3",
   "language": "python",
   "name": "python3"
  },
  "language_info": {
   "codemirror_mode": {
    "name": "ipython",
    "version": 3
   },
   "file_extension": ".py",
   "mimetype": "text/x-python",
   "name": "python",
   "nbconvert_exporter": "python",
   "pygments_lexer": "ipython3",
   "version": "3.8.5"
  }
 },
 "nbformat": 4,
 "nbformat_minor": 4
}
